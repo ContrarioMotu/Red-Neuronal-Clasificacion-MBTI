{
 "cells": [
  {
   "cell_type": "code",
   "execution_count": 1,
   "metadata": {},
   "outputs": [],
   "source": [
    "import numpy as np\n",
    "import pandas as pd\n",
    "import matplotlib.pyplot as plt\n",
    "import torch\n",
    "import torch.nn as nn\n",
    "import torch.nn.functional as F\n",
    "import torch.optim as optim\n",
    "import spacy\n",
    "from torch.utils.data import TensorDataset, DataLoader"
   ]
  },
  {
   "cell_type": "code",
   "execution_count": 2,
   "metadata": {},
   "outputs": [],
   "source": [
    "df = pd.read_csv('data/MBTI500.csv')"
   ]
  },
  {
   "cell_type": "code",
   "execution_count": 3,
   "metadata": {},
   "outputs": [
    {
     "name": "stdout",
     "output_type": "stream",
     "text": [
      "type\n",
      "INTP    24961\n",
      "INTJ    22427\n",
      "INFJ    14963\n",
      "INFP    12134\n",
      "ENTP    11725\n",
      "ENFP     6167\n",
      "ISTP     3424\n",
      "ENTJ     2955\n",
      "ESTP     1986\n",
      "ENFJ     1534\n",
      "ISTJ     1243\n",
      "ISFP      875\n",
      "ISFJ      650\n",
      "ESTJ      482\n",
      "ESFP      360\n",
      "ESFJ      181\n",
      "Name: count, dtype: int64\n"
     ]
    },
    {
     "data": {
      "text/plain": [
       "count    106067.000000\n",
       "mean        500.019818\n",
       "std           1.209997\n",
       "min         479.000000\n",
       "25%         500.000000\n",
       "50%         500.000000\n",
       "75%         500.000000\n",
       "max         527.000000\n",
       "Name: posts, dtype: float64"
      ]
     },
     "execution_count": 3,
     "metadata": {},
     "output_type": "execute_result"
    }
   ],
   "source": [
    "print(df.type.value_counts())\n",
    "lengths = df['posts'].apply(lambda x: len(x.split(' ')))\n",
    "lengths.describe()"
   ]
  },
  {
   "cell_type": "code",
   "execution_count": 4,
   "metadata": {},
   "outputs": [],
   "source": [
    "from sklearn.utils import resample\n",
    "\n",
    "INTP = resample(df[df.type == 'INTP'], replace=False, n_samples=181, random_state=4)\n",
    "INTJ = resample(df[df.type == 'INTJ'], replace=False, n_samples=181, random_state=4)\n",
    "INFJ = resample(df[df.type == 'INFJ'], replace=False, n_samples=181, random_state=4)\n",
    "INFP = resample(df[df.type == 'INFP'], replace=False, n_samples=181, random_state=4)\n",
    "ENTP = resample(df[df.type == 'ENTP'], replace=False, n_samples=181, random_state=4)\n",
    "ENFP = resample(df[df.type == 'ENFP'], replace=False, n_samples=181, random_state=4)\n",
    "ISTP = resample(df[df.type == 'ISTP'], replace=False, n_samples=181, random_state=4)\n",
    "ENTJ = resample(df[df.type == 'ENTJ'], replace=False, n_samples=181, random_state=4)\n",
    "ESTP = resample(df[df.type == 'ESTP'], replace=False, n_samples=181, random_state=4)\n",
    "ENFJ = resample(df[df.type == 'ENFJ'], replace=False, n_samples=181, random_state=4)\n",
    "ISTJ = resample(df[df.type == 'ISTJ'], replace=False, n_samples=181, random_state=4)\n",
    "ISFP = resample(df[df.type == 'ISFP'], replace=False, n_samples=181, random_state=4)\n",
    "ISFJ = resample(df[df.type == 'ISFJ'], replace=False, n_samples=181, random_state=4)\n",
    "ESTJ = resample(df[df.type == 'ESTJ'], replace=False, n_samples=181, random_state=4)\n",
    "ESFP = resample(df[df.type == 'ESFP'], replace=False, n_samples=181, random_state=4)\n",
    "ESFJ = df[df.type == 'ESFJ']\n",
    "\n",
    "uniform_df = pd.concat([INTP, INTJ, INFJ, INFP, ENTP, ENFP, ISTP, ENTJ, ESTP, ENFJ, ISTJ, ISFP, ISFJ, ESTJ, ESFP, ESFJ])"
   ]
  },
  {
   "cell_type": "code",
   "execution_count": 5,
   "metadata": {},
   "outputs": [
    {
     "name": "stdout",
     "output_type": "stream",
     "text": [
      "type\n",
      "INTP    181\n",
      "INTJ    181\n",
      "INFJ    181\n",
      "INFP    181\n",
      "ENTP    181\n",
      "ENFP    181\n",
      "ISTP    181\n",
      "ENTJ    181\n",
      "ESTP    181\n",
      "ENFJ    181\n",
      "ISTJ    181\n",
      "ISFP    181\n",
      "ISFJ    181\n",
      "ESTJ    181\n",
      "ESFP    181\n",
      "ESFJ    181\n",
      "Name: count, dtype: int64\n"
     ]
    }
   ],
   "source": [
    "print(uniform_df.type.value_counts())"
   ]
  },
  {
   "cell_type": "code",
   "execution_count": 6,
   "metadata": {},
   "outputs": [],
   "source": [
    "uniform_df.to_csv('data/UniformMBTI.csv', index=False)"
   ]
  },
  {
   "cell_type": "code",
   "execution_count": 7,
   "metadata": {},
   "outputs": [
    {
     "data": {
      "text/plain": [
       "(2896, 527)"
      ]
     },
     "execution_count": 7,
     "metadata": {},
     "output_type": "execute_result"
    }
   ],
   "source": [
    "ds = np.array(uniform_df)\n",
    "\n",
    "def tokenize_features(dataset, num_features):\n",
    "    tokens = [text.split(' ') for text in dataset[:, 0]]\n",
    "    features = np.zeros((len(tokens), num_features), dtype=int)\n",
    "\n",
    "    return features\n",
    "\n",
    "X = tokenize_features(ds, 527)\n",
    "X.shape"
   ]
  },
  {
   "cell_type": "code",
   "execution_count": 8,
   "metadata": {},
   "outputs": [
    {
     "data": {
      "text/plain": [
       "(2896, 16)"
      ]
     },
     "execution_count": 8,
     "metadata": {},
     "output_type": "execute_result"
    }
   ],
   "source": [
    "def encode_classes(dataset):\n",
    "    types = ['INTP', 'INTJ', 'INFJ', 'INFP', 'ENTP', 'ENFP', 'ISTP', 'ENTJ',\n",
    "             'ESTP', 'ENFJ', 'ISTJ', 'ISFP', 'ISFJ', 'ESTJ', 'ESFP', 'ESFJ']\n",
    "    \n",
    "    labels = np.array([[1 if types[i] == etiqueta else 0 for i in range(16)] for etiqueta in dataset[:, 1]])\n",
    "    return labels\n",
    "\n",
    "Y = encode_classes(ds)\n",
    "Y.shape"
   ]
  },
  {
   "cell_type": "code",
   "execution_count": 9,
   "metadata": {},
   "outputs": [
    {
     "name": "stdout",
     "output_type": "stream",
     "text": [
      "Train set: (2027, 527)\n",
      "Validation set: (435, 527)\n",
      "Test set: (434, 527)\n"
     ]
    }
   ],
   "source": [
    "from sklearn.model_selection import train_test_split\n",
    "\n",
    "X_train, X_test_val, Y_train, Y_test_val = train_test_split(X, Y, test_size=0.3, random_state=4)\n",
    "X_test, X_val = X_test_val[:int(len(X_test_val) * 0.5)], X_test_val[int(len(X_test_val) * 0.5):]\n",
    "Y_test, Y_val = Y_test_val[:int(len(Y_test_val) * 0.5)], Y_test_val[int(len(Y_test_val) * 0.5):]\n",
    "\n",
    "print(\"Train set:\", X_train.shape)\n",
    "print(\"Validation set:\", X_val.shape)\n",
    "print(\"Test set:\", X_test.shape)\n"
   ]
  },
  {
   "cell_type": "code",
   "execution_count": 10,
   "metadata": {},
   "outputs": [],
   "source": [
    "train_data = TensorDataset(torch.from_numpy(X_train), torch.from_numpy(Y_train))\n",
    "val_data = TensorDataset(torch.from_numpy(X_val), torch.from_numpy(Y_val))\n",
    "test_data = TensorDataset(torch.from_numpy(X_test), torch.from_numpy(Y_test))\n",
    "\n",
    "batch_size = 50\n",
    "\n",
    "train_loader = DataLoader(train_data, shuffle=True, batch_size=batch_size)\n",
    "val_loader = DataLoader(val_data, shuffle=True, batch_size=batch_size)\n",
    "test_loader = DataLoader(test_data, shuffle=True, batch_size=batch_size)"
   ]
  },
  {
   "cell_type": "code",
   "execution_count": 11,
   "metadata": {},
   "outputs": [],
   "source": [
    "nlp = spacy.load('en_core_web_md')"
   ]
  },
  {
   "cell_type": "code",
   "execution_count": 12,
   "metadata": {},
   "outputs": [],
   "source": [
    "class MBTIClassifier(nn.Module):\n",
    "    def __init__(self, embed_model, num_filters, kernel_sizes=[3, 4, 5],  drop_prob=0.5):\n",
    "        super(MBTIClassifier, self).__init__()\n",
    "\n",
    "        self.named_buffers = num_filters\n",
    "        self.embedding = nn.Embedding(embed_model.vectors.shape[0], embed_model.vectors.shape[1])\n",
    "        self.embedding.weight = nn.Parameter(torch.from_numpy(embed_model.vectors.data))\n",
    "        self.convs_1d = nn.ModuleList([\n",
    "            nn.Conv2d(1, num_filters, (i, embed_model.vectors.shape[1]), padding=(i-2,0))\n",
    "            for i in kernel_sizes])\n",
    "        self.fc = nn.Linear(len(kernel_sizes) * num_filters, 16)\n",
    "        self.dropout = nn.Dropout(drop_prob)\n",
    "        self.logsoftmax = nn.LogSoftmax(dim=1)\n",
    "\n",
    "    def forward(self, X):\n",
    "        embeds = self.embedding(X)\n",
    "        embeds = embeds.unsqueeze(1)\n",
    "\n",
    "        convs = []\n",
    "\n",
    "        for conv in self.convs_1d:\n",
    "            x = F.relu(conv(embeds)).squeeze(3)\n",
    "            x_max = F.max_pool1d(x, x.size(2)).squeeze(2)\n",
    "            convs.append(x_max)\n",
    "\n",
    "        x = torch.cat(convs, 1)\n",
    "        x = self.dropout(x)\n",
    "        x = self.fc(x)\n",
    "\n",
    "        return self.logsoftmax(x)"
   ]
  },
  {
   "cell_type": "code",
   "execution_count": 13,
   "metadata": {},
   "outputs": [],
   "source": [
    "import time\n",
    "import math\n",
    "\n",
    "def timeSince(since):\n",
    "    '''\n",
    "    Función auxiliar, nos servirá para monitorizar el tiempo que hemos entrenado.\n",
    "    '''\n",
    "    now = time.time()\n",
    "    s = now - since\n",
    "    m = math.floor(s / 60)\n",
    "    s -= m * 60\n",
    "    return '%dm %ds' % (m, s)"
   ]
  },
  {
   "cell_type": "code",
   "execution_count": 46,
   "metadata": {},
   "outputs": [],
   "source": [
    "def train(net, train_loader, criterion, optimizer):\n",
    "    if torch.cuda.is_available():\n",
    "        net.cuda()\n",
    "\n",
    "    loss = torch.Tensor([0])\n",
    "    net.train()\n",
    "    for x, y in train_loader:\n",
    "        if torch.cuda.is_available():\n",
    "            x = x.cuda()\n",
    "            y = y.cuda()\n",
    "        net.zero_grad()\n",
    "        output = net(x)\n",
    "        l = criterion(output.squeeze(), y.float())\n",
    "        optimizer.step()\n",
    "        loss += l\n",
    "\n",
    "    loss.backward()\n",
    "\n",
    "    net.eval()\n",
    "    for x, y in val_loader:\n",
    "        if torch.cuda.is_available():\n",
    "            x = x.cuda()\n",
    "            y = y.cuda()\n",
    "        \n",
    "        output = net(x)\n",
    "        val_loss = criterion(output.squeeze(), y.float())\n",
    "    \n",
    "    return loss.item()/len(train_loader.sampler), val_loss.item()"
   ]
  },
  {
   "cell_type": "code",
   "execution_count": 49,
   "metadata": {},
   "outputs": [
    {
     "name": "stdout",
     "output_type": "stream",
     "text": [
      "MBTIClassifier(\n",
      "  (embedding): Embedding(20000, 300)\n",
      "  (convs_1d): ModuleList(\n",
      "    (0): Conv2d(1, 20, kernel_size=(3, 300), stride=(1, 1), padding=(1, 0))\n",
      "    (1): Conv2d(1, 20, kernel_size=(4, 300), stride=(1, 1), padding=(2, 0))\n",
      "    (2): Conv2d(1, 20, kernel_size=(5, 300), stride=(1, 1), padding=(3, 0))\n",
      "  )\n",
      "  (fc): Linear(in_features=60, out_features=16, bias=True)\n",
      "  (dropout): Dropout(p=0.5, inplace=False)\n",
      "  (logsoftmax): LogSoftmax(dim=1)\n",
      ")\n"
     ]
    }
   ],
   "source": [
    "clasificador = MBTIClassifier(nlp.vocab, 20)\n",
    "print(clasificador)"
   ]
  },
  {
   "cell_type": "code",
   "execution_count": null,
   "metadata": {},
   "outputs": [],
   "source": [
    "n_iters = 50\n",
    "print_every = 5\n",
    "plot_every = 5\n",
    "all_losses = []\n",
    "all_val_losses = []\n",
    "total_loss = 0\n",
    "total_val_loss = 0\n",
    "\n",
    "criterion = nn.CrossEntropyLoss()\n",
    "optimizer = torch.optim.Adam(clasificador.parameters(), lr=0.01)\n",
    "\n",
    "start = time.time()\n",
    "\n",
    "for iter in range(1, n_iters + 1):\n",
    "    loss, val_loss = train(clasificador, train_loader, criterion, optimizer)\n",
    "    total_loss += loss\n",
    "    total_val_loss += val_loss\n",
    "\n",
    "    if iter % print_every == 0:\n",
    "        print('%s (%d %d%%)' % (timeSince(start), iter, iter / n_iters * 100),\n",
    "              'Loss:{:.4f}'.format(loss), 'Val_loss:{:.4f}'.format(val_loss))\n",
    "\n",
    "    if iter % plot_every == 0:\n",
    "        all_losses.append(total_loss / plot_every)\n",
    "        all_val_losses.append(total_val_loss / plot_every)\n",
    "        total_loss = 0\n",
    "        total_val_loss = 0\n",
    "\n",
    "plt.plot(all_losses, label='Train')\n",
    "plt.plot(all_val_losses, label='Validation')\n",
    "plt.title('Curva de Error')\n",
    "plt.xlabel('Iteraciones')\n",
    "plt.ylabel('Error')\n",
    "plt.show()"
   ]
  }
 ],
 "metadata": {
  "kernelspec": {
   "display_name": "Python 3",
   "language": "python",
   "name": "python3"
  },
  "language_info": {
   "codemirror_mode": {
    "name": "ipython",
    "version": 3
   },
   "file_extension": ".py",
   "mimetype": "text/x-python",
   "name": "python",
   "nbconvert_exporter": "python",
   "pygments_lexer": "ipython3",
   "version": "3.12.3"
  }
 },
 "nbformat": 4,
 "nbformat_minor": 2
}
