{
 "cells": [
  {
   "cell_type": "code",
   "execution_count": 1,
   "metadata": {},
   "outputs": [],
   "source": [
    "import numpy as np\n",
    "import pandas as pd\n",
    "import matplotlib.pyplot as plt\n",
    "import torch\n",
    "import torch.nn as nn\n",
    "import torch.optim as optim"
   ]
  },
  {
   "cell_type": "code",
   "execution_count": 2,
   "metadata": {},
   "outputs": [],
   "source": [
    "df = pd.read_csv('data/MBTI500.csv')\n",
    "df['posts'] = df['posts'].apply(lambda x: x.split(' '))"
   ]
  },
  {
   "cell_type": "code",
   "execution_count": 3,
   "metadata": {},
   "outputs": [
    {
     "name": "stdout",
     "output_type": "stream",
     "text": [
      "type\n",
      "INTP    24961\n",
      "INTJ    22427\n",
      "INFJ    14963\n",
      "INFP    12134\n",
      "ENTP    11725\n",
      "ENFP     6167\n",
      "ISTP     3424\n",
      "ENTJ     2955\n",
      "ESTP     1986\n",
      "ENFJ     1534\n",
      "ISTJ     1243\n",
      "ISFP      875\n",
      "ISFJ      650\n",
      "ESTJ      482\n",
      "ESFP      360\n",
      "ESFJ      181\n",
      "Name: count, dtype: int64\n"
     ]
    },
    {
     "data": {
      "text/plain": [
       "count    106067.000000\n",
       "mean        500.019818\n",
       "std           1.209997\n",
       "min         479.000000\n",
       "25%         500.000000\n",
       "50%         500.000000\n",
       "75%         500.000000\n",
       "max         527.000000\n",
       "Name: posts, dtype: float64"
      ]
     },
     "execution_count": 3,
     "metadata": {},
     "output_type": "execute_result"
    }
   ],
   "source": [
    "print(df.type.value_counts())\n",
    "lengths = df['posts'].apply(lambda x: len(x))\n",
    "lengths.describe()"
   ]
  },
  {
   "cell_type": "code",
   "execution_count": 4,
   "metadata": {},
   "outputs": [],
   "source": [
    "from sklearn.utils import resample\n",
    "\n",
    "df['posts'] = df['posts'].apply(lambda x: x[:479])\n",
    "\n",
    "INTP = resample(df[df.type == 'INTP'], replace=False, n_samples=181, random_state=4)\n",
    "INTJ = resample(df[df.type == 'INTJ'], replace=False, n_samples=181, random_state=4)\n",
    "INFJ = resample(df[df.type == 'INFJ'], replace=False, n_samples=181, random_state=4)\n",
    "INFP = resample(df[df.type == 'INFP'], replace=False, n_samples=181, random_state=4)\n",
    "ENTP = resample(df[df.type == 'ENTP'], replace=False, n_samples=181, random_state=4)\n",
    "ENFP = resample(df[df.type == 'ENFP'], replace=False, n_samples=181, random_state=4)\n",
    "ISTP = resample(df[df.type == 'ISTP'], replace=False, n_samples=181, random_state=4)\n",
    "ENTJ = resample(df[df.type == 'ENTJ'], replace=False, n_samples=181, random_state=4)\n",
    "ESTP = resample(df[df.type == 'ESTP'], replace=False, n_samples=181, random_state=4)\n",
    "ENFJ = resample(df[df.type == 'ENFJ'], replace=False, n_samples=181, random_state=4)\n",
    "ISTJ = resample(df[df.type == 'ISTJ'], replace=False, n_samples=181, random_state=4)\n",
    "ISFP = resample(df[df.type == 'ISFP'], replace=False, n_samples=181, random_state=4)\n",
    "ISFJ = resample(df[df.type == 'ISFJ'], replace=False, n_samples=181, random_state=4)\n",
    "ESTJ = resample(df[df.type == 'ESTJ'], replace=False, n_samples=181, random_state=4)\n",
    "ESFP = resample(df[df.type == 'ESFP'], replace=False, n_samples=181, random_state=4)\n",
    "ESFJ = df[df.type == 'ESFJ']\n",
    "\n",
    "uniform_df = pd.concat([INTP, INTJ, INFJ, INFP, ENTP, ENFP, ISTP, ENTJ, ESTP, ENFJ, ISTJ, ISFP, ISFJ, ESTJ, ESFP, ESFJ])"
   ]
  },
  {
   "cell_type": "code",
   "execution_count": 5,
   "metadata": {},
   "outputs": [
    {
     "name": "stdout",
     "output_type": "stream",
     "text": [
      "type\n",
      "INTP    181\n",
      "INTJ    181\n",
      "INFJ    181\n",
      "INFP    181\n",
      "ENTP    181\n",
      "ENFP    181\n",
      "ISTP    181\n",
      "ENTJ    181\n",
      "ESTP    181\n",
      "ENFJ    181\n",
      "ISTJ    181\n",
      "ISFP    181\n",
      "ISFJ    181\n",
      "ESTJ    181\n",
      "ESFP    181\n",
      "ESFJ    181\n",
      "Name: count, dtype: int64\n"
     ]
    },
    {
     "data": {
      "text/plain": [
       "count    2896.0\n",
       "mean      479.0\n",
       "std         0.0\n",
       "min       479.0\n",
       "25%       479.0\n",
       "50%       479.0\n",
       "75%       479.0\n",
       "max       479.0\n",
       "Name: posts, dtype: float64"
      ]
     },
     "execution_count": 5,
     "metadata": {},
     "output_type": "execute_result"
    }
   ],
   "source": [
    "print(uniform_df.type.value_counts())\n",
    "lengths = uniform_df['posts'].apply(lambda x: len(x))\n",
    "lengths.describe()"
   ]
  },
  {
   "cell_type": "code",
   "execution_count": 8,
   "metadata": {},
   "outputs": [],
   "source": [
    "uniform_df.to_csv('data/UniformMBTI.csv', index=False)"
   ]
  },
  {
   "cell_type": "code",
   "execution_count": 6,
   "metadata": {},
   "outputs": [],
   "source": [
    "from sklearn.model_selection import train_test_split\n",
    "\n",
    "X = np.array(uniform_df['posts'])\n",
    "Y = np.array(uniform_df['type'])\n",
    "\n",
    "X_train, X_test_val, Y_train, Y_test_val = train_test_split(X, Y, test_size=0.3, random_state=4)\n",
    "X_test, X_val = X_test_val[:int(len(X_test_val) * 0.5)], X_test_val[int(len(X_test_val) * 0.5):]\n",
    "Y_test, Y_val = Y_test_val[:int(len(Y_test_val) * 0.5)], Y_test_val[int(len(Y_test_val) * 0.5):]\n"
   ]
  }
 ],
 "metadata": {
  "kernelspec": {
   "display_name": "Python 3",
   "language": "python",
   "name": "python3"
  },
  "language_info": {
   "codemirror_mode": {
    "name": "ipython",
    "version": 3
   },
   "file_extension": ".py",
   "mimetype": "text/x-python",
   "name": "python",
   "nbconvert_exporter": "python",
   "pygments_lexer": "ipython3",
   "version": "3.12.3"
  }
 },
 "nbformat": 4,
 "nbformat_minor": 2
}
